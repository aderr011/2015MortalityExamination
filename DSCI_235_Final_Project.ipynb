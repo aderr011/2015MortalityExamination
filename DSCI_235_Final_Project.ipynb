{
  "cells": [
    {
      "cell_type": "markdown",
      "metadata": {
        "id": "view-in-github",
        "colab_type": "text"
      },
      "source": [
        "<a href=\"https://colab.research.google.com/github/aderr011/2015MortalityExamination/blob/add-examination-file/DSCI_235_Final_Project.ipynb\" target=\"_parent\"><img src=\"https://colab.research.google.com/assets/colab-badge.svg\" alt=\"Open In Colab\"/></a>"
      ]
    },
    {
      "cell_type": "markdown",
      "source": [
        "#Imports and Dataset Examination"
      ],
      "metadata": {
        "id": "0pv3HOkN2fGk"
      }
    },
    {
      "cell_type": "code",
      "execution_count": 17,
      "metadata": {
        "colab": {
          "base_uri": "https://localhost:8080/",
          "height": 35
        },
        "id": "AF54cEvK-WJQ",
        "outputId": "c2adbe09-37f3-4aad-ca77-9ddf1c6bdfbf"
      },
      "outputs": [
        {
          "output_type": "display_data",
          "data": {
            "application/javascript": [
              "IPython.notebook.set_autosave_interval(0)"
            ]
          },
          "metadata": {}
        },
        {
          "output_type": "stream",
          "name": "stdout",
          "text": [
            "Autosave disabled\n"
          ]
        }
      ],
      "source": [
        "%autosave 0\n",
        "import numpy as np\n",
        "import pandas as pd\n",
        "import matplotlib.pyplot as plt "
      ]
    },
    {
      "cell_type": "code",
      "source": [
        "from google.colab import drive\n",
        "drive.mount('/content/drive')"
      ],
      "metadata": {
        "id": "Dqv-ismdo97Q",
        "colab": {
          "base_uri": "https://localhost:8080/"
        },
        "outputId": "db3ff6d8-2de3-4fb0-92af-5a71c8eedbdb"
      },
      "execution_count": 18,
      "outputs": [
        {
          "output_type": "stream",
          "name": "stdout",
          "text": [
            "Drive already mounted at /content/drive; to attempt to forcibly remount, call drive.mount(\"/content/drive\", force_remount=True).\n"
          ]
        }
      ]
    },
    {
      "cell_type": "code",
      "source": [
        "data = pd.read_csv(r'/content/drive/MyDrive/2015_data.csv')\n",
        "data.head()\n"
      ],
      "metadata": {
        "colab": {
          "base_uri": "https://localhost:8080/",
          "height": 336
        },
        "id": "1PDdBCrRq6Hw",
        "outputId": "83c9edcf-87b8-4b31-98e8-78dbb0d184f6"
      },
      "execution_count": 19,
      "outputs": [
        {
          "output_type": "stream",
          "name": "stderr",
          "text": [
            "/usr/local/lib/python3.7/dist-packages/IPython/core/interactiveshell.py:2882: DtypeWarning: Columns (40,41,42,43,61,62,63,64) have mixed types.Specify dtype option on import or set low_memory=False.\n",
            "  exec(code_obj, self.user_global_ns, self.user_ns)\n"
          ]
        },
        {
          "output_type": "execute_result",
          "data": {
            "text/plain": [
              "   resident_status  education_1989_revision  education_2003_revision  \\\n",
              "0                1                      NaN                      3.0   \n",
              "1                1                      NaN                      6.0   \n",
              "2                1                      NaN                      3.0   \n",
              "3                1                      NaN                      3.0   \n",
              "4                1                      NaN                      5.0   \n",
              "\n",
              "   education_reporting_flag  month_of_death sex  detail_age_type  detail_age  \\\n",
              "0                         1               1   M                1          84   \n",
              "1                         1               1   M                1          70   \n",
              "2                         1               1   F                1          91   \n",
              "3                         1               1   F                1          40   \n",
              "4                         1               1   F                1          89   \n",
              "\n",
              "   age_substitution_flag  age_recode_52  ...  record_condition_18  \\\n",
              "0                    NaN             42  ...                  NaN   \n",
              "1                    NaN             40  ...                  NaN   \n",
              "2                    NaN             44  ...                  NaN   \n",
              "3                    NaN             34  ...                  NaN   \n",
              "4                    NaN             43  ...                  NaN   \n",
              "\n",
              "   record_condition_19  record_condition_20  race bridged_race_flag  \\\n",
              "0                  NaN                  NaN     1               NaN   \n",
              "1                  NaN                  NaN     1               NaN   \n",
              "2                  NaN                  NaN     1               NaN   \n",
              "3                  NaN                  NaN     3               NaN   \n",
              "4                  NaN                  NaN     1               NaN   \n",
              "\n",
              "   race_imputation_flag  race_recode_3 race_recode_5  hispanic_origin  \\\n",
              "0                   NaN              1             1              100   \n",
              "1                   NaN              1             1              100   \n",
              "2                   NaN              1             1              100   \n",
              "3                   NaN              2             3              100   \n",
              "4                   NaN              1             1              100   \n",
              "\n",
              "  hispanic_originrace_recode  \n",
              "0                          6  \n",
              "1                          6  \n",
              "2                          6  \n",
              "3                          8  \n",
              "4                          6  \n",
              "\n",
              "[5 rows x 77 columns]"
            ],
            "text/html": [
              "\n",
              "  <div id=\"df-86f663bc-7d1a-4aa1-b048-d718ca9735b0\">\n",
              "    <div class=\"colab-df-container\">\n",
              "      <div>\n",
              "<style scoped>\n",
              "    .dataframe tbody tr th:only-of-type {\n",
              "        vertical-align: middle;\n",
              "    }\n",
              "\n",
              "    .dataframe tbody tr th {\n",
              "        vertical-align: top;\n",
              "    }\n",
              "\n",
              "    .dataframe thead th {\n",
              "        text-align: right;\n",
              "    }\n",
              "</style>\n",
              "<table border=\"1\" class=\"dataframe\">\n",
              "  <thead>\n",
              "    <tr style=\"text-align: right;\">\n",
              "      <th></th>\n",
              "      <th>resident_status</th>\n",
              "      <th>education_1989_revision</th>\n",
              "      <th>education_2003_revision</th>\n",
              "      <th>education_reporting_flag</th>\n",
              "      <th>month_of_death</th>\n",
              "      <th>sex</th>\n",
              "      <th>detail_age_type</th>\n",
              "      <th>detail_age</th>\n",
              "      <th>age_substitution_flag</th>\n",
              "      <th>age_recode_52</th>\n",
              "      <th>...</th>\n",
              "      <th>record_condition_18</th>\n",
              "      <th>record_condition_19</th>\n",
              "      <th>record_condition_20</th>\n",
              "      <th>race</th>\n",
              "      <th>bridged_race_flag</th>\n",
              "      <th>race_imputation_flag</th>\n",
              "      <th>race_recode_3</th>\n",
              "      <th>race_recode_5</th>\n",
              "      <th>hispanic_origin</th>\n",
              "      <th>hispanic_originrace_recode</th>\n",
              "    </tr>\n",
              "  </thead>\n",
              "  <tbody>\n",
              "    <tr>\n",
              "      <th>0</th>\n",
              "      <td>1</td>\n",
              "      <td>NaN</td>\n",
              "      <td>3.0</td>\n",
              "      <td>1</td>\n",
              "      <td>1</td>\n",
              "      <td>M</td>\n",
              "      <td>1</td>\n",
              "      <td>84</td>\n",
              "      <td>NaN</td>\n",
              "      <td>42</td>\n",
              "      <td>...</td>\n",
              "      <td>NaN</td>\n",
              "      <td>NaN</td>\n",
              "      <td>NaN</td>\n",
              "      <td>1</td>\n",
              "      <td>NaN</td>\n",
              "      <td>NaN</td>\n",
              "      <td>1</td>\n",
              "      <td>1</td>\n",
              "      <td>100</td>\n",
              "      <td>6</td>\n",
              "    </tr>\n",
              "    <tr>\n",
              "      <th>1</th>\n",
              "      <td>1</td>\n",
              "      <td>NaN</td>\n",
              "      <td>6.0</td>\n",
              "      <td>1</td>\n",
              "      <td>1</td>\n",
              "      <td>M</td>\n",
              "      <td>1</td>\n",
              "      <td>70</td>\n",
              "      <td>NaN</td>\n",
              "      <td>40</td>\n",
              "      <td>...</td>\n",
              "      <td>NaN</td>\n",
              "      <td>NaN</td>\n",
              "      <td>NaN</td>\n",
              "      <td>1</td>\n",
              "      <td>NaN</td>\n",
              "      <td>NaN</td>\n",
              "      <td>1</td>\n",
              "      <td>1</td>\n",
              "      <td>100</td>\n",
              "      <td>6</td>\n",
              "    </tr>\n",
              "    <tr>\n",
              "      <th>2</th>\n",
              "      <td>1</td>\n",
              "      <td>NaN</td>\n",
              "      <td>3.0</td>\n",
              "      <td>1</td>\n",
              "      <td>1</td>\n",
              "      <td>F</td>\n",
              "      <td>1</td>\n",
              "      <td>91</td>\n",
              "      <td>NaN</td>\n",
              "      <td>44</td>\n",
              "      <td>...</td>\n",
              "      <td>NaN</td>\n",
              "      <td>NaN</td>\n",
              "      <td>NaN</td>\n",
              "      <td>1</td>\n",
              "      <td>NaN</td>\n",
              "      <td>NaN</td>\n",
              "      <td>1</td>\n",
              "      <td>1</td>\n",
              "      <td>100</td>\n",
              "      <td>6</td>\n",
              "    </tr>\n",
              "    <tr>\n",
              "      <th>3</th>\n",
              "      <td>1</td>\n",
              "      <td>NaN</td>\n",
              "      <td>3.0</td>\n",
              "      <td>1</td>\n",
              "      <td>1</td>\n",
              "      <td>F</td>\n",
              "      <td>1</td>\n",
              "      <td>40</td>\n",
              "      <td>NaN</td>\n",
              "      <td>34</td>\n",
              "      <td>...</td>\n",
              "      <td>NaN</td>\n",
              "      <td>NaN</td>\n",
              "      <td>NaN</td>\n",
              "      <td>3</td>\n",
              "      <td>NaN</td>\n",
              "      <td>NaN</td>\n",
              "      <td>2</td>\n",
              "      <td>3</td>\n",
              "      <td>100</td>\n",
              "      <td>8</td>\n",
              "    </tr>\n",
              "    <tr>\n",
              "      <th>4</th>\n",
              "      <td>1</td>\n",
              "      <td>NaN</td>\n",
              "      <td>5.0</td>\n",
              "      <td>1</td>\n",
              "      <td>1</td>\n",
              "      <td>F</td>\n",
              "      <td>1</td>\n",
              "      <td>89</td>\n",
              "      <td>NaN</td>\n",
              "      <td>43</td>\n",
              "      <td>...</td>\n",
              "      <td>NaN</td>\n",
              "      <td>NaN</td>\n",
              "      <td>NaN</td>\n",
              "      <td>1</td>\n",
              "      <td>NaN</td>\n",
              "      <td>NaN</td>\n",
              "      <td>1</td>\n",
              "      <td>1</td>\n",
              "      <td>100</td>\n",
              "      <td>6</td>\n",
              "    </tr>\n",
              "  </tbody>\n",
              "</table>\n",
              "<p>5 rows × 77 columns</p>\n",
              "</div>\n",
              "      <button class=\"colab-df-convert\" onclick=\"convertToInteractive('df-86f663bc-7d1a-4aa1-b048-d718ca9735b0')\"\n",
              "              title=\"Convert this dataframe to an interactive table.\"\n",
              "              style=\"display:none;\">\n",
              "        \n",
              "  <svg xmlns=\"http://www.w3.org/2000/svg\" height=\"24px\"viewBox=\"0 0 24 24\"\n",
              "       width=\"24px\">\n",
              "    <path d=\"M0 0h24v24H0V0z\" fill=\"none\"/>\n",
              "    <path d=\"M18.56 5.44l.94 2.06.94-2.06 2.06-.94-2.06-.94-.94-2.06-.94 2.06-2.06.94zm-11 1L8.5 8.5l.94-2.06 2.06-.94-2.06-.94L8.5 2.5l-.94 2.06-2.06.94zm10 10l.94 2.06.94-2.06 2.06-.94-2.06-.94-.94-2.06-.94 2.06-2.06.94z\"/><path d=\"M17.41 7.96l-1.37-1.37c-.4-.4-.92-.59-1.43-.59-.52 0-1.04.2-1.43.59L10.3 9.45l-7.72 7.72c-.78.78-.78 2.05 0 2.83L4 21.41c.39.39.9.59 1.41.59.51 0 1.02-.2 1.41-.59l7.78-7.78 2.81-2.81c.8-.78.8-2.07 0-2.86zM5.41 20L4 18.59l7.72-7.72 1.47 1.35L5.41 20z\"/>\n",
              "  </svg>\n",
              "      </button>\n",
              "      \n",
              "  <style>\n",
              "    .colab-df-container {\n",
              "      display:flex;\n",
              "      flex-wrap:wrap;\n",
              "      gap: 12px;\n",
              "    }\n",
              "\n",
              "    .colab-df-convert {\n",
              "      background-color: #E8F0FE;\n",
              "      border: none;\n",
              "      border-radius: 50%;\n",
              "      cursor: pointer;\n",
              "      display: none;\n",
              "      fill: #1967D2;\n",
              "      height: 32px;\n",
              "      padding: 0 0 0 0;\n",
              "      width: 32px;\n",
              "    }\n",
              "\n",
              "    .colab-df-convert:hover {\n",
              "      background-color: #E2EBFA;\n",
              "      box-shadow: 0px 1px 2px rgba(60, 64, 67, 0.3), 0px 1px 3px 1px rgba(60, 64, 67, 0.15);\n",
              "      fill: #174EA6;\n",
              "    }\n",
              "\n",
              "    [theme=dark] .colab-df-convert {\n",
              "      background-color: #3B4455;\n",
              "      fill: #D2E3FC;\n",
              "    }\n",
              "\n",
              "    [theme=dark] .colab-df-convert:hover {\n",
              "      background-color: #434B5C;\n",
              "      box-shadow: 0px 1px 3px 1px rgba(0, 0, 0, 0.15);\n",
              "      filter: drop-shadow(0px 1px 2px rgba(0, 0, 0, 0.3));\n",
              "      fill: #FFFFFF;\n",
              "    }\n",
              "  </style>\n",
              "\n",
              "      <script>\n",
              "        const buttonEl =\n",
              "          document.querySelector('#df-86f663bc-7d1a-4aa1-b048-d718ca9735b0 button.colab-df-convert');\n",
              "        buttonEl.style.display =\n",
              "          google.colab.kernel.accessAllowed ? 'block' : 'none';\n",
              "\n",
              "        async function convertToInteractive(key) {\n",
              "          const element = document.querySelector('#df-86f663bc-7d1a-4aa1-b048-d718ca9735b0');\n",
              "          const dataTable =\n",
              "            await google.colab.kernel.invokeFunction('convertToInteractive',\n",
              "                                                     [key], {});\n",
              "          if (!dataTable) return;\n",
              "\n",
              "          const docLinkHtml = 'Like what you see? Visit the ' +\n",
              "            '<a target=\"_blank\" href=https://colab.research.google.com/notebooks/data_table.ipynb>data table notebook</a>'\n",
              "            + ' to learn more about interactive tables.';\n",
              "          element.innerHTML = '';\n",
              "          dataTable['output_type'] = 'display_data';\n",
              "          await google.colab.output.renderOutput(dataTable, element);\n",
              "          const docLink = document.createElement('div');\n",
              "          docLink.innerHTML = docLinkHtml;\n",
              "          element.appendChild(docLink);\n",
              "        }\n",
              "      </script>\n",
              "    </div>\n",
              "  </div>\n",
              "  "
            ]
          },
          "metadata": {},
          "execution_count": 19
        }
      ]
    },
    {
      "cell_type": "markdown",
      "source": [
        "As seen in the .head() call, there are many columns that contain mostly NaN values. These columns are largely not useful in the overall understanding the examination of the data, so they will be avoided mostly. Below I will list all of the columns that the dataset contains."
      ],
      "metadata": {
        "id": "QDqL7HSgjJWR"
      }
    },
    {
      "cell_type": "code",
      "source": [
        "data.columns"
      ],
      "metadata": {
        "colab": {
          "base_uri": "https://localhost:8080/"
        },
        "id": "KO_zkI3NBBYo",
        "outputId": "2aac56f1-b981-4318-badf-da244b98d3a9"
      },
      "execution_count": 20,
      "outputs": [
        {
          "output_type": "execute_result",
          "data": {
            "text/plain": [
              "Index(['resident_status', 'education_1989_revision', 'education_2003_revision',\n",
              "       'education_reporting_flag', 'month_of_death', 'sex', 'detail_age_type',\n",
              "       'detail_age', 'age_substitution_flag', 'age_recode_52', 'age_recode_27',\n",
              "       'age_recode_12', 'infant_age_recode_22',\n",
              "       'place_of_death_and_decedents_status', 'marital_status',\n",
              "       'day_of_week_of_death', 'current_data_year', 'injury_at_work',\n",
              "       'manner_of_death', 'method_of_disposition', 'autopsy', 'activity_code',\n",
              "       'place_of_injury_for_causes_w00_y34_except_y06_and_y07_',\n",
              "       'icd_code_10th_revision', '358_cause_recode', '113_cause_recode',\n",
              "       '130_infant_cause_recode', '39_cause_recode',\n",
              "       'number_of_entity_axis_conditions', 'entity_condition_1',\n",
              "       'entity_condition_2', 'entity_condition_3', 'entity_condition_4',\n",
              "       'entity_condition_5', 'entity_condition_6', 'entity_condition_7',\n",
              "       'entity_condition_8', 'entity_condition_9', 'entity_condition_10',\n",
              "       'entity_condition_11', 'entity_condition_12', 'entity_condition_13',\n",
              "       'entity_condition_14', 'entity_condition_15', 'entity_condition_16',\n",
              "       'entity_condition_17', 'entity_condition_18', 'entity_condition_19',\n",
              "       'entity_condition_20', 'number_of_record_axis_conditions',\n",
              "       'record_condition_1', 'record_condition_2', 'record_condition_3',\n",
              "       'record_condition_4', 'record_condition_5', 'record_condition_6',\n",
              "       'record_condition_7', 'record_condition_8', 'record_condition_9',\n",
              "       'record_condition_10', 'record_condition_11', 'record_condition_12',\n",
              "       'record_condition_13', 'record_condition_14', 'record_condition_15',\n",
              "       'record_condition_16', 'record_condition_17', 'record_condition_18',\n",
              "       'record_condition_19', 'record_condition_20', 'race',\n",
              "       'bridged_race_flag', 'race_imputation_flag', 'race_recode_3',\n",
              "       'race_recode_5', 'hispanic_origin', 'hispanic_originrace_recode'],\n",
              "      dtype='object')"
            ]
          },
          "metadata": {},
          "execution_count": 20
        }
      ]
    },
    {
      "cell_type": "markdown",
      "source": [
        "#Overview of DataSet\n",
        "###2015 Mortality Dataset\n",
        "\n",
        "\n",
        "This dataset is from the Centers for Disease Control and Prevention (CDC). It contains information from every death recorded in the United States during the year 2015. It includes 77 columns each representing another characteristic of the specific death.\n",
        "\n",
        "As referenced in my project proposal, this is a very grim topic, and is not responsible to view the deaths of family members and close friends as another row in a dataset. But with this data, the goal is to examine the deaths of residents of the United States and create solutions to minimize the deaths that occur. \n",
        "\n",
        "This dataset is heavily based on the documentation given by the CDC for their csv files, as most entries in the dataset are linked with long strings, for examples for the column labeled 'activity_code' which is supposed to represent the activity that was being done during the time of death, the value 4 is linked with 'While resting, sleeping, eating (vital activities)'. Because of this strong reliance on documentation, I will include a cheat sheeet.\n",
        "\n",
        "This dataset was taken from Kaggle through this link: [mortality dataset](https://www.kaggle.com/datasets/cdc/mortality?select=2015_data.csv)"
      ],
      "metadata": {
        "id": "2XH-FgoV-8NP"
      }
    },
    {
      "cell_type": "markdown",
      "source": [
        "##Dataset Key\n",
        "\n",
        "Relevant Columns:\n",
        "\n",
        "  - 'resident_status':\n",
        "    - 1 : Resident\n",
        "    - 2 : Intrastate Nonresidents\n",
        "    - 3 : Interterritory Nonresidents\n",
        "    - 4 : Foreign Residents\n",
        "  - 'education_2003_revision'\n",
        "    - 1 : 8th grade or less\n",
        "    - 2 : 9 - 12th grade, no diploma\n",
        "    - 3 : high school graduate or GED completed\n",
        "    - 4 : some college credit, but no degree\n",
        "    - 5 : Associate degree\n",
        "    - 6 : Bachelor’s degree\n",
        "    - 7 : Master’s degree\n",
        "    - 8 : Doctorate or professional degree\n",
        "    - 9 : Unknown\n",
        "  - 'month_of_death'\n",
        "    - 1 : January\n",
        "    - 2 : February\n",
        "    - 3 : March\n",
        "    - 4 : April\n",
        "    - 5 : May\n",
        "    - 6 : June\n",
        "    - 7 : July\n",
        "    - 8 : August\n",
        "    - 9 : September\n",
        "    - 10 : October\n",
        "    - 11 : November\n",
        "    - 12 : December\n",
        "  - 'sex'\n",
        "    - M : Male\n",
        "    - F : Female\n",
        "  - 'detail_age_type'\n",
        "    - 1 : Years\n",
        "    - 2 : Months\n",
        "    - 4 : Days\n",
        "    - 5 : Hours\n",
        "    - 6 : Minutes\n",
        "    - 9 : Age not stated\n",
        "  - 'age_recode_52'\n",
        "    - 01 : Under 1 hour (includes not stated hours and minutes)\n",
        "    - 02 : 1 - 23 hours\n",
        "    - 03 : 1 day (includes not stated days)\n",
        "    - 04 : 2 days\n",
        "    - 05 : 3 days\n",
        "    - 06 : 4 days\n",
        "    - 07 : 5 days\n",
        "    - 08 : 6 days\n",
        "    - 09 : 7 - 13 days (includes not stated weeks)\n",
        "    - 10 : 14 - 20 days\n",
        "    - 11 : 21 - 27 days\n",
        "    - 12 : 1 month (includes not stated months)\n",
        "    - 13 : 2 months\n",
        "    - 14 : 3 months\n",
        "    - 15 : 4 months\n",
        "    - 16 : 5 months\n",
        "    - 17 : 6 months\n",
        "    - 18 : 7 months\n",
        "    - 19 : 8 months\n",
        "    - 20 : 9 months\n",
        "    - 21 : 10 months\n",
        "    - 22 : 11 months\n",
        "    - 23 : 1 year\n",
        "    - 24 : 2 years\n",
        "    - 25 : 3 years\n",
        "    - 26 : 4 years\n",
        "    - 27 : 5 - 9 years\n",
        "    - 28 : 10 - 14 years\n",
        "    - 29 : 15 - 19 years\n",
        "    - 30 : 20 - 24 years\n",
        "    - 31 : 25 - 29 years\n",
        "    - 32 : 30 - 34 years\n",
        "    - 33 : 35 - 39 years\n",
        "    - 34 : 40 - 44 years\n",
        "    - 35 : 45 - 49 years\n",
        "    - 36 : 50 - 54 years\n",
        "    - 37 : 55 - 59 years\n",
        "    - 38 : 60 - 64 years\n",
        "    - 39 : 65 - 69 years\n",
        "    - 40 : 70 - 74 years\n",
        "    - 41 : 75 - 79 years\n",
        "    - 42 : 80 - 84 years\n",
        "    - 43 : 85 - 89 years\n",
        "    - 44 : 90 - 94 years\n",
        "    - 45 : 95 - 99 years\n",
        "    - 46 : 100 - 104 years\n",
        "    - 47 : 105 - 109 years\n",
        "    - 48 : 110 - 114 years\n",
        "    - 49 : 115 - 119 years\n",
        "    - 50 : 120 - 124 years\n",
        "    - 51 : 125 years and over\n",
        "    - 52 : Age not stated\n",
        "  - 'infant_age_recode_22'\n",
        "    - Blank : Age 1 year and over or not stated\n",
        "    - 01 : Under 1 hour (includes not stated hours and minutes)\n",
        "    - 02 : 1 - 23 hours\n",
        "    - 03 : 1 day (includes not stated days)\n",
        "    - 04 : 2 days\n",
        "    - 05 : 3 days\n",
        "    - 06 : 4 days\n",
        "    - 07 : 5 days\n",
        "    - 08 : 6 days\n",
        "    - 09 : 7 - 13 days (includes not stated weeks)\n",
        "    - 10 : 14 - 20 days\n",
        "    - 11 : 21 - 27 days\n",
        "    - 12 : 1 month (includes not stated months)\n",
        "    - 13 : 2 months\n",
        "    - 14 : 3 months\n",
        "    - 15 : 4 months\n",
        "    - 16 : 5 months\n",
        "    - 17 : 6 months\n",
        "    - 18 : 7 months\n",
        "    - 19 : 8 months\n",
        "    - 20 : 9 months\n",
        "    - 21 : 10 months\n",
        "    - 22 : 11 months\n",
        "  - 'place_of_death_and_decedents_status'\n",
        "    - 1 : Hospital, clinic or Medical Center (Inpatient)\n",
        "    - 2 : Hospital, Clinic or Medical Center (Outpatient or admitted to Emergency Room)\n",
        "    - 3 : Hospital, Clinic or Medical Center (Dead on Arrival)\n",
        "    - 4 : Decedent’s home\n",
        "    - 5 : Hospice facility\n",
        "    - 6 : Nursing home/long term care\n",
        "    - 7 : Other\n",
        "    - 9 : Place of death unknown\n",
        "\n",
        "  - 'marital_status'\n",
        "    - S : Never married, single\n",
        "    - M : Married\n",
        "    - W : Widowed\n",
        "    - D : Divorced\n",
        "    - U : Marital Status unknown\n",
        "  - 'day_of_week_of_death'\n",
        "    - 1 : Sunday\n",
        "    - 2 : Monday\n",
        "    - 3 : Tuesday\n",
        "    - 4 : Wednesday\n",
        "    - 5 : Thursday\n",
        "    - 6 : Friday\n",
        "    - 7 : Saturday\n",
        "    - 9 : Unknown\n",
        "  - 'injury_at_work'\n",
        "    - Y : Yes\n",
        "    - N : No\n",
        "    - U : Unknown\n",
        "  - 'manner_of_death'\n",
        "    - 1 : Accident\n",
        "    - 2 : Suicide\n",
        "    - 3 : Homicide\n",
        "    - 4 : Pending investigation\n",
        "    - 5 : Could not determine\n",
        "    - 6 : Self-Inflicted\n",
        "    - 7 : Natural\n",
        "    - Blank : Not specified\n",
        "  - 'method_of_disposition'\n",
        "    - B : Burial\n",
        "    - C : Cremation\n",
        "    - O : Other\n",
        "    - U : Unknown\n",
        "  - 'autopsy'\n",
        "    - Y : Yes\n",
        "    - N : No\n",
        "    - U : Unknown\n",
        "  - 'activity_code'\n",
        "    - 0 : While engaged in sports activity\n",
        "    - 1 : While engaged in leisure activity\n",
        "    - 2 : While working for income\n",
        "    - 3 : While engaged in other types of work\n",
        "    - 4 : While resting, sleeping, eating (vital activities)\n",
        "    - 8 : While engaged in other specified activities\n",
        "    - 9 : During unspecified activity\n",
        "    - Blank : Not applicable\n",
        "  - 'place_of_injury_for_causes_w00_y34_except_y06_and_y07_'\n",
        "    - 0 : Home\n",
        "    - 1 : Residential institution\n",
        "    - 2 : School, other institution and public administrative area\n",
        "    - 3 : Sports and athletics area\n",
        "    - 4 : Street and highway\n",
        "    - 5 : Trade and service area\n",
        "    - 6 : Industrial and construction area\n",
        "    - 7 : Farm\n",
        "    - 8 : Other Specified Places\n",
        "    - 9 : Unspecified place\n",
        "    - Blank : Causes other than W00-Y34, except Y06.- and Y07.- \n",
        "  - 'race'\n",
        "    - 01 : White\n",
        "    - 02 : Black\n",
        "    - 03 : American Indian (includes Aleuts and Eskimos)\n",
        "    - 04 : Chinese\n",
        "    - 05 : Japanese\n",
        "    - 06 : Hawaiian (includes Part-Hawaiian)\n",
        "    - 07 : Filipino\n",
        "    - 18 : Asian Indian\n",
        "    - 28 : Korean\n",
        "    - 38 : Samoan\n",
        "    - 48 : Vietnamese\n",
        "    - 58 : Guamanian\n",
        "    - 68 : Other Asian or Pacific Islander in areas reporting codes 18-58\n",
        "    - 78 : Combined other Asian or Pacific Islander, includes codes 18-68\n",
        "for areas that do not report them separately"
      ],
      "metadata": {
        "id": "N0WVCM80BfmP"
      }
    },
    {
      "cell_type": "markdown",
      "source": [
        "#Questions Intended to be Answered\n",
        "\n"
      ],
      "metadata": {
        "id": "fnDtOPwo2puk"
      }
    },
    {
      "cell_type": "markdown",
      "source": [
        "The questions I intended to answer- written out in my project proposal- are listed below. Outside of these questions, I intend to add a few more that I have drafted while examining the data more indepth. \n",
        "\n",
        "\n",
        "Project Proposal Questions:\n",
        "\n",
        "  - What is the most common cause of death?\n",
        "  - Where do the most deaths occur?\n",
        "  - What is the relationship between race and death?\n",
        "\n",
        "Futher Questions:\n",
        "\n",
        "  - What is the distribution of total deaths of each month?\n",
        "  - What months are suicide rates highest for 20-24 year olds?\n",
        "  - What level of education did 45-49 year olds have when they died?\n",
        "  - What is the distribution of deaths for each age group?\n",
        "  - What is the most common cause of death for each age group?\n",
        "\n",
        "\n",
        "These questions will be confronted and answered below"
      ],
      "metadata": {
        "id": "jmF7ISMvk-KS"
      }
    },
    {
      "cell_type": "markdown",
      "source": [
        "#Most Common Cause of Death"
      ],
      "metadata": {
        "id": "HIXTSFaQ2JsR"
      }
    },
    {
      "cell_type": "code",
      "source": [
        "cause_of_death = ['Accident', 'Suicide', 'Homicide', 'Pending investigation', 'Could not determine', 'Natural']\n",
        "\n",
        "# Get the manner of deaths counts\n",
        "manner_counts = data['manner_of_death'].sort_values().value_counts(sort=False)\n",
        "\n",
        "#plot\n",
        "plt.figure(figsize=(15,10))\n",
        "plt.barh(cause_of_death, manner_counts)"
      ],
      "metadata": {
        "id": "zzr9wJVi19Ao",
        "colab": {
          "base_uri": "https://localhost:8080/",
          "height": 623
        },
        "outputId": "6092221f-0ecd-4cde-ee97-3567c1d3b382"
      },
      "execution_count": 21,
      "outputs": [
        {
          "output_type": "execute_result",
          "data": {
            "text/plain": [
              "<BarContainer object of 6 artists>"
            ]
          },
          "metadata": {},
          "execution_count": 21
        },
        {
          "output_type": "display_data",
          "data": {
            "text/plain": [
              "<Figure size 1080x720 with 1 Axes>"
            ],
            "image/png": "[encoded data removed]"
          },
          "metadata": {
            "needs_background": "light"
          }
        }
      ]
    },
    {
      "cell_type": "markdown",
      "source": [
        "As seen by the above cell, the most common cause of death in the year of 2015 was natural cause with 2,107,352 people. The other manners of death are as indicated:\n",
        "\n",
        "  - 1 : Accident\n",
        "  - 2 : Suicide\n",
        "  - 3 : Homicide\n",
        "  - 4 : Pending investigation\n",
        "  - 5 : Could not determine\n",
        "  - 6 : Self-Inflicted\n",
        "  - 7 : Natural\n",
        "  - Blank : Not specified\n",
        "\n",
        "The second most common cause of death is Accident and the third with a considerably less number of cases is suicide"
      ],
      "metadata": {
        "id": "RafORW6o23UO"
      }
    },
    {
      "cell_type": "markdown",
      "source": [
        "#Most Common Location of Deaths"
      ],
      "metadata": {
        "id": "WJsQBthA3ztq"
      }
    },
    {
      "cell_type": "code",
      "source": [
        "#obtain the most common values that fall under the 'activity code' 'place_of_injury_for_causes_w00_y34_except_y06_and_y07_' and 'place_of_death_and_decedents_status' columns for each month\n",
        "data.groupby('month_of_death')[['activity_code', 'place_of_injury_for_causes_w00_y34_except_y06_and_y07_', 'place_of_death_and_decedents_status']].aggregate(pd.Series.mode)"
      ],
      "metadata": {
        "id": "IA9EyPPJ34SB",
        "colab": {
          "base_uri": "https://localhost:8080/",
          "height": 456
        },
        "outputId": "1cf75d1a-f24e-4d3e-b1da-957bb39ee028"
      },
      "execution_count": 22,
      "outputs": [
        {
          "output_type": "execute_result",
          "data": {
            "text/plain": [
              "                activity_code  \\\n",
              "month_of_death                  \n",
              "1                         9.0   \n",
              "2                         9.0   \n",
              "3                         9.0   \n",
              "4                         9.0   \n",
              "5                         9.0   \n",
              "6                         9.0   \n",
              "7                         9.0   \n",
              "8                         9.0   \n",
              "9                         9.0   \n",
              "10                        9.0   \n",
              "11                        9.0   \n",
              "12                        9.0   \n",
              "\n",
              "                place_of_injury_for_causes_w00_y34_except_y06_and_y07_  \\\n",
              "month_of_death                                                           \n",
              "1                                                             0.0        \n",
              "2                                                             0.0        \n",
              "3                                                             0.0        \n",
              "4                                                             0.0        \n",
              "5                                                             0.0        \n",
              "6                                                             0.0        \n",
              "7                                                             0.0        \n",
              "8                                                             0.0        \n",
              "9                                                             0.0        \n",
              "10                                                            0.0        \n",
              "11                                                            0.0        \n",
              "12                                                            0.0        \n",
              "\n",
              "                place_of_death_and_decedents_status  \n",
              "month_of_death                                       \n",
              "1                                                 1  \n",
              "2                                                 1  \n",
              "3                                                 1  \n",
              "4                                                 1  \n",
              "5                                                 4  \n",
              "6                                                 4  \n",
              "7                                                 4  \n",
              "8                                                 4  \n",
              "9                                                 4  \n",
              "10                                                4  \n",
              "11                                                4  \n",
              "12                                                1  "
            ],
            "text/html": [
              "\n",
              "  <div id=\"df-7c6c9f75-c4cd-48a2-b351-a9167a634beb\">\n",
              "    <div class=\"colab-df-container\">\n",
              "      <div>\n",
              "<style scoped>\n",
              "    .dataframe tbody tr th:only-of-type {\n",
              "        vertical-align: middle;\n",
              "    }\n",
              "\n",
              "    .dataframe tbody tr th {\n",
              "        vertical-align: top;\n",
              "    }\n",
              "\n",
              "    .dataframe thead th {\n",
              "        text-align: right;\n",
              "    }\n",
              "</style>\n",
              "<table border=\"1\" class=\"dataframe\">\n",
              "  <thead>\n",
              "    <tr style=\"text-align: right;\">\n",
              "      <th></th>\n",
              "      <th>activity_code</th>\n",
              "      <th>place_of_injury_for_causes_w00_y34_except_y06_and_y07_</th>\n",
              "      <th>place_of_death_and_decedents_status</th>\n",
              "    </tr>\n",
              "    <tr>\n",
              "      <th>month_of_death</th>\n",
              "      <th></th>\n",
              "      <th></th>\n",
              "      <th></th>\n",
              "    </tr>\n",
              "  </thead>\n",
              "  <tbody>\n",
              "    <tr>\n",
              "      <th>1</th>\n",
              "      <td>9.0</td>\n",
              "      <td>0.0</td>\n",
              "      <td>1</td>\n",
              "    </tr>\n",
              "    <tr>\n",
              "      <th>2</th>\n",
              "      <td>9.0</td>\n",
              "      <td>0.0</td>\n",
              "      <td>1</td>\n",
              "    </tr>\n",
              "    <tr>\n",
              "      <th>3</th>\n",
              "      <td>9.0</td>\n",
              "      <td>0.0</td>\n",
              "      <td>1</td>\n",
              "    </tr>\n",
              "    <tr>\n",
              "      <th>4</th>\n",
              "      <td>9.0</td>\n",
              "      <td>0.0</td>\n",
              "      <td>1</td>\n",
              "    </tr>\n",
              "    <tr>\n",
              "      <th>5</th>\n",
              "      <td>9.0</td>\n",
              "      <td>0.0</td>\n",
              "      <td>4</td>\n",
              "    </tr>\n",
              "    <tr>\n",
              "      <th>6</th>\n",
              "      <td>9.0</td>\n",
              "      <td>0.0</td>\n",
              "      <td>4</td>\n",
              "    </tr>\n",
              "    <tr>\n",
              "      <th>7</th>\n",
              "      <td>9.0</td>\n",
              "      <td>0.0</td>\n",
              "      <td>4</td>\n",
              "    </tr>\n",
              "    <tr>\n",
              "      <th>8</th>\n",
              "      <td>9.0</td>\n",
              "      <td>0.0</td>\n",
              "      <td>4</td>\n",
              "    </tr>\n",
              "    <tr>\n",
              "      <th>9</th>\n",
              "      <td>9.0</td>\n",
              "      <td>0.0</td>\n",
              "      <td>4</td>\n",
              "    </tr>\n",
              "    <tr>\n",
              "      <th>10</th>\n",
              "      <td>9.0</td>\n",
              "      <td>0.0</td>\n",
              "      <td>4</td>\n",
              "    </tr>\n",
              "    <tr>\n",
              "      <th>11</th>\n",
              "      <td>9.0</td>\n",
              "      <td>0.0</td>\n",
              "      <td>4</td>\n",
              "    </tr>\n",
              "    <tr>\n",
              "      <th>12</th>\n",
              "      <td>9.0</td>\n",
              "      <td>0.0</td>\n",
              "      <td>1</td>\n",
              "    </tr>\n",
              "  </tbody>\n",
              "</table>\n",
              "</div>\n",
              "      <button class=\"colab-df-convert\" onclick=\"convertToInteractive('df-7c6c9f75-c4cd-48a2-b351-a9167a634beb')\"\n",
              "              title=\"Convert this dataframe to an interactive table.\"\n",
              "              style=\"display:none;\">\n",
              "        \n",
              "  <svg xmlns=\"http://www.w3.org/2000/svg\" height=\"24px\"viewBox=\"0 0 24 24\"\n",
              "       width=\"24px\">\n",
              "    <path d=\"M0 0h24v24H0V0z\" fill=\"none\"/>\n",
              "    <path d=\"M18.56 5.44l.94 2.06.94-2.06 2.06-.94-2.06-.94-.94-2.06-.94 2.06-2.06.94zm-11 1L8.5 8.5l.94-2.06 2.06-.94-2.06-.94L8.5 2.5l-.94 2.06-2.06.94zm10 10l.94 2.06.94-2.06 2.06-.94-2.06-.94-.94-2.06-.94 2.06-2.06.94z\"/><path d=\"M17.41 7.96l-1.37-1.37c-.4-.4-.92-.59-1.43-.59-.52 0-1.04.2-1.43.59L10.3 9.45l-7.72 7.72c-.78.78-.78 2.05 0 2.83L4 21.41c.39.39.9.59 1.41.59.51 0 1.02-.2 1.41-.59l7.78-7.78 2.81-2.81c.8-.78.8-2.07 0-2.86zM5.41 20L4 18.59l7.72-7.72 1.47 1.35L5.41 20z\"/>\n",
              "  </svg>\n",
              "      </button>\n",
              "      \n",
              "  <style>\n",
              "    .colab-df-container {\n",
              "      display:flex;\n",
              "      flex-wrap:wrap;\n",
              "      gap: 12px;\n",
              "    }\n",
              "\n",
              "    .colab-df-convert {\n",
              "      background-color: #E8F0FE;\n",
              "      border: none;\n",
              "      border-radius: 50%;\n",
              "      cursor: pointer;\n",
              "      display: none;\n",
              "      fill: #1967D2;\n",
              "      height: 32px;\n",
              "      padding: 0 0 0 0;\n",
              "      width: 32px;\n",
              "    }\n",
              "\n",
              "    .colab-df-convert:hover {\n",
              "      background-color: #E2EBFA;\n",
              "      box-shadow: 0px 1px 2px rgba(60, 64, 67, 0.3), 0px 1px 3px 1px rgba(60, 64, 67, 0.15);\n",
              "      fill: #174EA6;\n",
              "    }\n",
              "\n",
              "    [theme=dark] .colab-df-convert {\n",
              "      background-color: #3B4455;\n",
              "      fill: #D2E3FC;\n",
              "    }\n",
              "\n",
              "    [theme=dark] .colab-df-convert:hover {\n",
              "      background-color: #434B5C;\n",
              "      box-shadow: 0px 1px 3px 1px rgba(0, 0, 0, 0.15);\n",
              "      filter: drop-shadow(0px 1px 2px rgba(0, 0, 0, 0.3));\n",
              "      fill: #FFFFFF;\n",
              "    }\n",
              "  </style>\n",
              "\n",
              "      <script>\n",
              "        const buttonEl =\n",
              "          document.querySelector('#df-7c6c9f75-c4cd-48a2-b351-a9167a634beb button.colab-df-convert');\n",
              "        buttonEl.style.display =\n",
              "          google.colab.kernel.accessAllowed ? 'block' : 'none';\n",
              "\n",
              "        async function convertToInteractive(key) {\n",
              "          const element = document.querySelector('#df-7c6c9f75-c4cd-48a2-b351-a9167a634beb');\n",
              "          const dataTable =\n",
              "            await google.colab.kernel.invokeFunction('convertToInteractive',\n",
              "                                                     [key], {});\n",
              "          if (!dataTable) return;\n",
              "\n",
              "          const docLinkHtml = 'Like what you see? Visit the ' +\n",
              "            '<a target=\"_blank\" href=https://colab.research.google.com/notebooks/data_table.ipynb>data table notebook</a>'\n",
              "            + ' to learn more about interactive tables.';\n",
              "          element.innerHTML = '';\n",
              "          dataTable['output_type'] = 'display_data';\n",
              "          await google.colab.output.renderOutput(dataTable, element);\n",
              "          const docLink = document.createElement('div');\n",
              "          docLink.innerHTML = docLinkHtml;\n",
              "          element.appendChild(docLink);\n",
              "        }\n",
              "      </script>\n",
              "    </div>\n",
              "  </div>\n",
              "  "
            ]
          },
          "metadata": {},
          "execution_count": 22
        }
      ]
    },
    {
      "cell_type": "markdown",
      "source": [
        "'place_of_death_and_decedents_status'\n",
        "  - 1 : Hospital, clinic or Medical Center (Inpatient)\n",
        "  - 2 : Hospital, Clinic or Medical Center (Outpatient or admitted to Emergency Room)\n",
        "  - 3 : Hospital, Clinic or Medical Center (Dead on Arrival)\n",
        "  - 4 : Decedent’s home\n",
        "  - 5 : Hospice facility\n",
        "  - 6 : Nursing home/long term care\n",
        "  - 7 : Other\n",
        "  - 9 : Place of death unknown\n",
        "\n",
        "As shown above, when examining the data throughout all age groups, the only column whos values differ is the 'place of death and decedents status' column. It starts with a value of 1 - indicating that the place of death is in a hosplital, clinic, or medical center. \n",
        "\n",
        "It then changes to 4 (Decendent's home) in the month of May and then changes back to 1 in December."
      ],
      "metadata": {
        "id": "PhijZx3LWdFh"
      }
    },
    {
      "cell_type": "markdown",
      "source": [
        "#Race and Death\n",
        "\n",
        "When examining race and death, I must find the total number of each race to compare them correctly. Without examining the data with percentages, the data would be incredibly skewed, as there are far more white Americans.\n",
        "\n",
        "Data of populations by race in US obtained from [statistics](https://www.statista.com/statistics/183489/population-of-the-us-by-ethnicity-since-2000/)\n",
        "\n",
        "This source shows the amount of people who fall into different races. As we can see from the numbers, white Americans make up about 247 million, African Americans make up about 43 million, American Indians make up about 4 million, Hawaiian makes up about 750 thousand and Asian makes up about 18 million. With these numbers we can calculate the deaths percentage from the total amount to accurately compare the different death rates"
      ],
      "metadata": {
        "id": "zC0gQcbjoqIN"
      }
    },
    {
      "cell_type": "code",
      "source": [
        "#Calculate the total amount of people in the US in 2015 \n",
        "#These numbers are taken from the source above\n",
        "white_total = 247.38*1000000\n",
        "black_total = 42.53*1000000\n",
        "indian_total = 4*1000000\n",
        "hawaiian_total = 0.75*1000000\n",
        "asian_total = 17.75*1000000\n",
        "\n",
        "#Find the amount of deaths for each race\n",
        "races = data['race'].sort_values().value_counts(sort=False)\n",
        "\n",
        "#Calculate the total by adding the number of deaths per race\n",
        "total = races[4]+races[5]+races[7]+races[18]+races[28]+races[48]+races[68]+races[78]\n",
        "\n",
        "#Print the results in percentage form\n",
        "print(\"Percentage of Deaths: \\n\")\n",
        "print(\"White: {:.2f}%\".format((races[1]/white_total)*100))\n",
        "print(\"Black or African American: {:.2f}%\".format((races[2]/black_total)*100))\n",
        "print(\"American Indian: {:.2f}%\".format((races[3]/indian_total)*100))\n",
        "print(\"Native Hawaiian: {:.2f}%\".format((races[6]/hawaiian_total)*100))\n",
        "print(\"Asian: {:.2f}%\".format((total/asian_total)*100))"
      ],
      "metadata": {
        "id": "oCKUVVp5ouMh",
        "colab": {
          "base_uri": "https://localhost:8080/"
        },
        "outputId": "dd327021-42ac-4cc5-d364-0404921855ff"
      },
      "execution_count": 23,
      "outputs": [
        {
          "output_type": "stream",
          "name": "stdout",
          "text": [
            "Percentage of Deaths: \n",
            "\n",
            "White: 0.93%\n",
            "Black or African American: 0.75%\n",
            "American Indian: 0.48%\n",
            "Native Hawaiian: 0.10%\n",
            "Asian: 0.37%\n"
          ]
        }
      ]
    },
    {
      "cell_type": "markdown",
      "source": [
        "From the above code, we can see that white Americans lost .93 percent of the total population in 2015, and African American, American Indian, Hawaiian, and Asian fall in behind with percentages of 0.75%, 0.48%, 0.10%, and 0.37%. "
      ],
      "metadata": {
        "id": "GHlHads0atGI"
      }
    },
    {
      "cell_type": "markdown",
      "source": [
        "#Distribution of Deaths Through Months"
      ],
      "metadata": {
        "id": "9pB1z3uQma-d"
      }
    },
    {
      "cell_type": "code",
      "source": [
        "#Get the counts of the month values (1-12)\n",
        "female_data = data[data['sex'] == 'M']\n",
        "male_data = data[data['sex'] == 'F']\n",
        "month_data_female = male_data['month_of_death'].sort_values().value_counts(sort=False)\n",
        "month_data_male = female_data['month_of_death'].sort_values().value_counts(sort=False)\n",
        "#Must make a list of the month names not the numbers 1-12\n",
        "months = ['January', 'February', 'March', 'April', 'May', 'June', 'July', 'August', 'September', 'October', 'November', 'December']\n",
        "#I am reversing the lists here because it makes a little more sense that way\n",
        "x_axis = np.arange(len(months))\n",
        "\n",
        "plt.figure(figsize=(15,10))\n",
        "\n",
        "plt.bar(x_axis -0.2, month_data_female, width = 0.4, label = 'Female')\n",
        "plt.bar(x_axis +0.2, month_data_male, width = 0.4, label = 'Male')\n",
        "\n",
        "plt.xticks(x_axis, months)\n",
        "\n",
        "plt.legend()\n",
        "\n",
        "plt.show()"
      ],
      "metadata": {
        "colab": {
          "base_uri": "https://localhost:8080/",
          "height": 592
        },
        "id": "jYptrM_ymGaU",
        "outputId": "11ee3f26-efc6-4f0c-8309-e206359ecd1d"
      },
      "execution_count": 24,
      "outputs": [
        {
          "output_type": "display_data",
          "data": {
            "text/plain": [
              "<Figure size 1080x720 with 1 Axes>"
            ],
            "image/png": "[encoded data removed]"
          },
          "metadata": {
            "needs_background": "light"
          }
        }
      ]
    },
    {
      "cell_type": "markdown",
      "source": [
        "As we can see by the bar plot above, the most deaths occur during the month of January with male and female having a fairly similar amount. Interestingly, women died at a higher rate during that month, as opposed to the other months excluding February. As for the rest of the months, men died at a higher rate by a significant amount. \n"
      ],
      "metadata": {
        "id": "4UFOupGc0k-w"
      }
    },
    {
      "cell_type": "markdown",
      "source": [
        "#Suicide Rate Throughout Months For 20-24 Year Olds\n"
      ],
      "metadata": {
        "id": "zbkKkcRLUA-4"
      }
    },
    {
      "cell_type": "code",
      "source": [
        "#find the number of suicides of 20-24 year olds throughout the months of the year 2015\n",
        "suicide_through_months = data[(data['manner_of_death'] == 2) & (data['age_recode_52'] == 30)].groupby('month_of_death').aggregate('count')['manner_of_death']\n",
        "\n",
        "plt.figure(figsize=(15,10))\n",
        "\n",
        "#Reverse the months and suicide arrays here to make the plot more readable\n",
        "plt.barh(months[::-1], suicide_through_months.values[::-1])"
      ],
      "metadata": {
        "colab": {
          "base_uri": "https://localhost:8080/",
          "height": 610
        },
        "id": "rlTOQoK4PMia",
        "outputId": "9b036212-d3ec-4e3b-960f-8a77858645f6"
      },
      "execution_count": 25,
      "outputs": [
        {
          "output_type": "execute_result",
          "data": {
            "text/plain": [
              "<BarContainer object of 12 artists>"
            ]
          },
          "metadata": {},
          "execution_count": 25
        },
        {
          "output_type": "display_data",
          "data": {
            "text/plain": [
              "<Figure size 1080x720 with 1 Axes>"
            ],
            "image/png": "[encoded data removed]"
          },
          "metadata": {
            "needs_background": "light"
          }
        }
      ]
    },
    {
      "cell_type": "markdown",
      "source": [
        "I wanted to examine the age group that I fall into most specifically when it comes to the problem of suicide. Unfortunately, we see a large amount of deaths during the month of May for the year 2015. Examining why deaths are highest in this month likely comes from many sources. Alot of pressure is put on people during these years in general and during the month of May it is only worse."
      ],
      "metadata": {
        "id": "0cjWozFw0kZw"
      }
    },
    {
      "cell_type": "markdown",
      "source": [
        "#Education Level"
      ],
      "metadata": {
        "id": "W5TbiAthuX9r"
      }
    },
    {
      "cell_type": "code",
      "source": [
        "#get dfs for respective education levels\n",
        "per_8thgrade = data[(data['age_recode_52'] == 35) & (data['education_2003_revision'] == 1)].count()[0]\n",
        "per_no_diploma = data[(data['age_recode_52'] == 35) & (data['education_2003_revision'] == 2)].count()[0]\n",
        "perc_highschool = data[(data['age_recode_52'] == 35) & (data['education_2003_revision'] == 3)].count()[0]\n",
        "perc_college = data[(data['age_recode_52'] == 35) & (data['education_2003_revision'] == 4)].count()[0]\n",
        "per_associate = data[(data['age_recode_52'] == 35) & (data['education_2003_revision'] == 5)].count()[0]\n",
        "per_bachelor = data[(data['age_recode_52'] == 35) & (data['education_2003_revision'] == 6)].count()[0]\n",
        "per_masters = data[(data['age_recode_52'] == 35) & (data['education_2003_revision'] == 7)].count()[0]\n",
        "per_doctorate = data[(data['age_recode_52'] == 35) & (data['education_2003_revision'] == 8)].count()[0]\n",
        "per_unknown = data[(data['age_recode_52'] == 35) & (data['education_2003_revision'] == 9)].count()[0]\n",
        "\n",
        "#Calculate the total from these amounts\n",
        "total = per_8thgrade+per_no_diploma+perc_highschool+perc_college+per_associate+per_bachelor+per_masters+per_doctorate+per_unknown\n",
        "print()\n",
        "\n",
        "#find the actual decimal value of each\n",
        "per_8thgrade = per_8thgrade/total\n",
        "per_no_diploma = per_no_diploma/total\n",
        "perc_highschool = perc_highschool/total\n",
        "perc_college = perc_college/total\n",
        "per_associate = per_associate/total\n",
        "per_bachellor = per_bachelor/total\n",
        "per_masters = per_masters/total\n",
        "per_doctorate = per_doctorate/total\n",
        "per_unknown = per_unknown/total\n",
        "\n",
        "#Lay out the labels that are linked to the numbers\n",
        "labels = '8th Grade', '9 - 12th Grade', 'High School Graduate', 'Some College Credit', 'Associate Degree', 'Bachelor’s Degree', 'Master’s Degree', 'Doctorate or Professional Degree', 'Unknown'\n",
        "sizes = np.array([per_8thgrade, per_no_diploma, perc_highschool, perc_college, per_associate, per_bachellor, per_masters, per_doctorate, per_unknown])\n",
        "\n",
        "fig1, ax1 = plt.subplots(figsize=(15,10))\n",
        "\n",
        "#Create pie plot with the sizes array multiplied by 100 to get the actual percentage\n",
        "ax1.pie(sizes*100, labels=labels, autopct='%1.1f%%',\n",
        "        shadow=True, startangle=90)\n",
        "ax1.axis('equal') \n",
        "\n",
        "plt.show()"
      ],
      "metadata": {
        "colab": {
          "base_uri": "https://localhost:8080/",
          "height": 595
        },
        "id": "CAP5gQB4wF2G",
        "outputId": "7ddb2deb-8ef2-4c17-d83d-6780f28bf65e"
      },
      "execution_count": 26,
      "outputs": [
        {
          "output_type": "stream",
          "name": "stdout",
          "text": [
            "\n"
          ]
        },
        {
          "output_type": "display_data",
          "data": {
            "text/plain": [
              "<Figure size 1080x720 with 1 Axes>"
            ],
            "image/png": "[encoded data removed]"
          },
          "metadata": {}
        }
      ]
    },
    {
      "cell_type": "markdown",
      "source": [
        "When examining education level of people who died in the 45-49 age range, we can see the distribution as seen above. We see a majority of High School Graduate with a percentage of 41.8%. When it comes to the next largest percentage, 9-12 Grade and Some College Credit are fairly close. Trailing behind not too far are Bachelor's Degree and Associate Degree. Clearly the main average here is High school Graduate, as the other higher percentages vary around that. "
      ],
      "metadata": {
        "id": "wv7LrsZp34C8"
      }
    },
    {
      "cell_type": "markdown",
      "source": [
        "#Breakdown of Age Group Deaths\n"
      ],
      "metadata": {
        "id": "YnqchSdvChOX"
      }
    },
    {
      "cell_type": "code",
      "source": [
        "#get the age and the counts of each \n",
        "age_counts = data['age_recode_52'].sort_values().value_counts(sort=False)\n",
        "\n",
        "time_ranges = ['Under 1 hour', '1 - 23 hours', '1 day', '2 days', '3 days', '4 days', '5 days', '6 days', '7 - 13 days', '14 - 20 days', \n",
        " '21 - 27 days', '1 month', '2 months', '3 months', '4 months', '5 months', '6 months', '7 months', '8 months', '9 months', '10 months', \n",
        "'11 months', '2 years', '3 years', '4 years', '5 - 9 years', '10 - 14 years', '15 - 19 years', '20 - 24 years', '25 - 29 years', '30 - 34 years', \n",
        "'35 - 39 years', '40 - 44 years', '45 - 49 years', '50 - 54 years', '55 - 59 years', '60 - 64 years', '65 - 69 years', '70 - 74 years', \n",
        "'75 - 79 years', '80 - 84 years', '85 - 89 years', '90 - 94 years', '95 - 99 years', '100 - 104 years'\n",
        ", '105 - 109 years', '110 - 114 years', '115 - 119 years', '120 - 124 years', 'Age not stated']\n",
        "\n",
        "plt.figure(figsize=(15,10))\n",
        "\n",
        "plt.barh(time_ranges, age_counts)\n",
        "plt.title('Number of Deaths For Age Groups')\n",
        "plt.xlabel('Number of Deaths')\n",
        "plt.ylabel('Age Group')"
      ],
      "metadata": {
        "id": "fNX_v4q-Ds2n",
        "colab": {
          "base_uri": "https://localhost:8080/",
          "height": 640
        },
        "outputId": "d136877c-825c-4779-9a5f-6df30277d06b"
      },
      "execution_count": 27,
      "outputs": [
        {
          "output_type": "execute_result",
          "data": {
            "text/plain": [
              "Text(0, 0.5, 'Age Group')"
            ]
          },
          "metadata": {},
          "execution_count": 27
        },
        {
          "output_type": "display_data",
          "data": {
            "text/plain": [
              "<Figure size 1080x720 with 1 Axes>"
            ],
            "image/png": "[encoded data removed]"
          },
          "metadata": {
            "needs_background": "light"
          }
        }
      ]
    },
    {
      "cell_type": "markdown",
      "source": [
        "Using a horizontal bar plot, we can easily visualize the distribution of the number of deaths for each age group. We see the most deaths occur in the 90 - 94 year old range. Coming after this age group in number of deaths is 85 - 89 years old. After that is 95 - 99 year old age group. This obviously makes the most sense in the grand scheme. This also correlates with the fact that the most common cause of death is natural. This statistic does not indicate the most common cause of death per age group. "
      ],
      "metadata": {
        "id": "FDAs4jZi6epr"
      }
    },
    {
      "cell_type": "markdown",
      "source": [
        "#Manner of Death for Age Groups"
      ],
      "metadata": {
        "id": "TCKbRZSo3FsR"
      }
    },
    {
      "cell_type": "code",
      "source": [
        "#find the manner of death for each age group\n",
        "type_per_age = data.groupby('age_recode_52')['manner_of_death'].aggregate(pd.Series.mode)\n",
        "\n",
        "time_ranges = ['10 m', '11 m', '2 yrs', '3 yrs', '4 yrs', '5 - 9 yrs', '10 - 14 yrs', '15 - 19 yrs', '20 - 24 yrs', '25 - 29 yrs', '30 - 34 yrs', \n",
        "'35 - 39 yrs', '40 - 44 yrs', '45 - 49 yrs', '50 - 54 yrs', '55 - 59 yrs']\n",
        "\n",
        "plt.figure(figsize=(20,10))\n",
        "\n",
        "# plot only a slice of the type_per_age array because displaying the rest is unneeded and messy\n",
        "# The other values all hold a value of 7 anyway, so displaying them is useless and crowded\n",
        "plt.plot(time_ranges, type_per_age[21:37])\n",
        "plt.title('Manner of Death For Age Range')\n",
        "plt.xlabel('Age Range')\n",
        "plt.ylabel('Manner of Death')"
      ],
      "metadata": {
        "id": "WRYTyasMhTxf",
        "colab": {
          "base_uri": "https://localhost:8080/",
          "height": 640
        },
        "outputId": "26b99f69-6be0-48a4-d7bc-fdead95a5fac"
      },
      "execution_count": 28,
      "outputs": [
        {
          "output_type": "execute_result",
          "data": {
            "text/plain": [
              "Text(0, 0.5, 'Manner of Death')"
            ]
          },
          "metadata": {},
          "execution_count": 28
        },
        {
          "output_type": "display_data",
          "data": {
            "text/plain": [
              "<Figure size 1440x720 with 1 Axes>"
            ],
            "image/png": "[encoded data removed]"
          },
          "metadata": {
            "needs_background": "light"
          }
        }
      ]
    },
    {
      "cell_type": "markdown",
      "source": [
        "'manner_of_death'\n",
        "  - 1 : Accident\n",
        "  - 2 : Suicide\n",
        "  - 3 : Homicide\n",
        "  - 4 : Pending investigation\n",
        "  - 5 : Could not determine\n",
        "  - 6 : Self-Inflicted\n",
        "  - 7 : Natural\n",
        "  - Blank : Not specified\n",
        "\n",
        "When examining the manner of death for each age group, the majority is 7 which indicates that the death was of natural causes. However, we do see a change in this trend during the range 15 - 34 years old. In this specific range, the most common cause of death was 'Accident'. This makes the most sense, as in this age range, people are likely healthy meaning that a death would most likely not be of natural causes. I did not include all age ranges in the line plot because the rest of the results held a value of 7 just like the ranges shown above excluding 15 - 34. Without those entries, the plot is much easier to read and understand\n"
      ],
      "metadata": {
        "id": "yb96EsHlBXnT"
      }
    }
  ],
  "metadata": {
    "kernelspec": {
      "display_name": "Python 3 (ipykernel)",
      "language": "python",
      "name": "python3"
    },
    "language_info": {
      "codemirror_mode": {
        "name": "ipython",
        "version": 3
      },
      "file_extension": ".py",
      "mimetype": "text/x-python",
      "name": "python",
      "nbconvert_exporter": "python",
      "pygments_lexer": "ipython3",
      "version": "3.7.6"
    },
    "colab": {
      "name": "DSCI 235 Final Project",
      "provenance": [],
      "collapsed_sections": [],
      "include_colab_link": true
    }
  },
  "nbformat": 4,
  "nbformat_minor": 0
}